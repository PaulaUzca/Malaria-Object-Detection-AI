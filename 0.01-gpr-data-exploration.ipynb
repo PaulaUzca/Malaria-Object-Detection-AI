{
 "cells": [
  {
   "cell_type": "code",
   "execution_count": null,
   "metadata": {},
   "outputs": [],
   "source": [
    "#@title **Import libraries**\n",
    "import os\n",
    "from zipfile import ZipFile"
   ]
  },
  {
   "cell_type": "markdown",
   "metadata": {},
   "source": [
    "Para que la siguiente celda funcione debes (i) estar en Google Colaboratory y (ii) tener un acceso directo de los [datos](https://drive.google.com/file/d/16T40TdpaB8VXohm50SySREwrzbuPcJBC/view) en tu drive. "
   ]
  },
  {
   "cell_type": "code",
   "execution_count": null,
   "metadata": {},
   "outputs": [],
   "source": [
    "#@title **Load data from Drive**\n",
    "\n",
    "from google.colab import drive\n",
    "drive.mount('/content/drive')\n",
    "os.chdir('/content/drive/My Drive')\n",
    "print(os.getcwd())"
   ]
  },
  {
   "cell_type": "code",
   "execution_count": null,
   "metadata": {},
   "outputs": [],
   "source": [
    "#@title **Extract the zip**\n",
    "\n",
    "os.mkdir('../../../../data')\n",
    "os.popen('cp data.csv ../../../../data/data.csv')\n",
    "target_path = os.path.join('../../../../data') # This is where the data will be stored\n",
    "# it must be outside the drive to be able to access it 'locally'\n",
    "\n",
    "# Unzip the downloaded files\n",
    "zip_file_path = os.path.join('AudioVisualData_v7.zip')\n",
    "with ZipFile(zip_file_path, 'r') as zip_ref:\n",
    "    zip_ref.extractall(target_path)\n",
    "\n",
    "# I move to where the data was left\n",
    "%cd ../../../../data\n",
    "# Verify\n",
    "%ls"
   ]
  }
 ],
 "metadata": {
  "language_info": {
   "name": "python"
  }
 },
 "nbformat": 4,
 "nbformat_minor": 2
}
